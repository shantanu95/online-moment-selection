{
 "cells": [
  {
   "cell_type": "code",
   "execution_count": 1,
   "metadata": {},
   "outputs": [],
   "source": [
    "import os\n",
    "import threading\n",
    "\n",
    "import seaborn as sns\n",
    "\n",
    "from causal_models.jtpa_scms import JTPADataBootstrapSCM\n",
    "from jtpa_iv_late_main import execute_strategy_iteration\n",
    "from utils import parallel_utils, plot_utils"
   ]
  },
  {
   "cell_type": "code",
   "execution_count": 2,
   "metadata": {},
   "outputs": [],
   "source": [
    "REPO_DIR = \"/path/to/repo/directory\"\n",
    "LOG_DIR = os.path.join(REPO_DIR, \"logs\", \"jtpa\")\n",
    "LOG_PATH = os.path.join(LOG_DIR, \"progress.txt\")\n",
    "RESULTS_DIR = os.path.join(REPO_DIR, \"results\")\n",
    "PLOTS_DIR = os.path.join(RESULTS_DIR, \"plots\")"
   ]
  },
  {
   "cell_type": "code",
   "execution_count": 3,
   "metadata": {},
   "outputs": [],
   "source": [
    "DATA_DIR = os.path.join(REPO_DIR, \"datasets\")\n",
    "DATA_FILEPATH = os.path.join(DATA_DIR, \"jtpa_processed.pkl\")"
   ]
  },
  {
   "cell_type": "code",
   "execution_count": 4,
   "metadata": {},
   "outputs": [],
   "source": [
    "true_scm = JTPADataBootstrapSCM(data_filepath=DATA_FILEPATH)"
   ]
  },
  {
   "cell_type": "code",
   "execution_count": 5,
   "metadata": {},
   "outputs": [],
   "source": [
    "def run_in_background(results_dict):\n",
    "    parallel_utils.get_timeseries_for(\n",
    "        true_scm,\n",
    "        [\n",
    "            \"complete_data_cross_fit_mlp\",\n",
    "            \"oracle_mlp\",\n",
    "            \"fixed_equal_mlp\",\n",
    "            \"etc_0.1_mlp\",\n",
    "            \"etg_0.1_mlp\",\n",
    "            \"etc_0.2_mlp\",\n",
    "            \"etg_0.2_mlp\",\n",
    "        ],\n",
    "        horizons=[2000, 4000, 6000, 8000],\n",
    "        iterations=2000,\n",
    "        results_dict=results_dict,\n",
    "        execute_fn=execute_strategy_iteration,\n",
    "        log_path=LOG_PATH,\n",
    "    )"
   ]
  },
  {
   "cell_type": "code",
   "execution_count": 8,
   "metadata": {},
   "outputs": [],
   "source": [
    "results_dict = {}\n",
    "thread = threading.Thread(target=run_in_background, args=(results_dict,))\n",
    "thread.start()"
   ]
  },
  {
   "cell_type": "code",
   "execution_count": 9,
   "metadata": {},
   "outputs": [],
   "source": [
    "thread.is_alive()"
   ]
  },
  {
   "cell_type": "code",
   "execution_count": 6,
   "metadata": {},
   "outputs": [],
   "source": [
    "palette = sns.color_palette(\"colorblind\")\n",
    "name_to_linestyle_color = {\n",
    "    \"etc_0.1_mlp\": [\"solid\", palette[0], \"o\"],\n",
    "    \"etc_0.2_mlp\": [\"dashed\", palette[-3], \">\"],\n",
    "    \"etg_0.1_mlp\": [\"dotted\", palette[2], \"^\"],\n",
    "    \"etg_0.2_mlp\": [\"loosely dashed\", palette[3], \"D\"],\n",
    "    \"fixed_equal_mlp\": [\"dashdotted\", palette[1], \"v\"],\n",
    "    \"oracle_mlp\": [\"long dash with offset\", palette[-2], \"*\"],\n",
    "}\n",
    "\n",
    "name_to_label = {\"fixed_equal\": \"fixed\"}"
   ]
  },
  {
   "cell_type": "code",
   "execution_count": 12,
   "metadata": {},
   "outputs": [],
   "source": [
    "plot_utils.plot_mse_curve(\n",
    "    results_dict=results_dict,\n",
    "    name_to_linestyle_color=name_to_linestyle_color,\n",
    "    name_to_label=name_to_label,\n",
    ")"
   ]
  }
 ],
 "metadata": {
  "kernelspec": {
   "display_name": "oms",
   "language": "python",
   "name": "python3"
  },
  "language_info": {
   "codemirror_mode": {
    "name": "ipython",
    "version": 3
   },
   "file_extension": ".py",
   "mimetype": "text/x-python",
   "name": "python",
   "nbconvert_exporter": "python",
   "pygments_lexer": "ipython3",
   "version": "3.12.0"
  },
  "orig_nbformat": 4
 },
 "nbformat": 4,
 "nbformat_minor": 2
}
