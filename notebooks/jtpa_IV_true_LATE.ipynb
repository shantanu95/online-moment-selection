{
 "cells": [
  {
   "cell_type": "code",
   "execution_count": 1,
   "metadata": {},
   "outputs": [],
   "source": [
    "import os\n",
    "\n",
    "import numpy as np\n",
    "from tqdm import tqdm\n",
    "\n",
    "from causal_models.jtpa_scms import JTPADataSCM\n",
    "from jtpa_iv_late_main import execute_strategy_iteration"
   ]
  },
  {
   "cell_type": "code",
   "execution_count": 2,
   "metadata": {},
   "outputs": [],
   "source": [
    "REPO_DIR = \"/path/to/repo/directory\"\n",
    "DATA_DIR = os.path.join(REPO_DIR, \"datasets\")\n",
    "DATA_FILEPATH = os.path.join(DATA_DIR, \"jtpa_processed.pkl\")"
   ]
  },
  {
   "cell_type": "code",
   "execution_count": 3,
   "metadata": {},
   "outputs": [],
   "source": [
    "true_scm = JTPADataSCM(data_filepath=DATA_FILEPATH)"
   ]
  },
  {
   "cell_type": "code",
   "execution_count": 4,
   "metadata": {},
   "outputs": [],
   "source": [
    "def compute_oracle_late_value(num_iters: int) -> tuple[float, float]:\n",
    "\n",
    "    vals = []\n",
    "    for i in tqdm(range(num_iters)):\n",
    "        res = execute_strategy_iteration(\n",
    "            true_scm=true_scm,\n",
    "            strategy_name=\"complete_data_cross_fit_mlp\",\n",
    "            iteration_num=i,\n",
    "            horizon=true_scm.get_max_size(),\n",
    "        )\n",
    "        vals.append(res.ate_hats[-1])\n",
    "    \n",
    "    return np.mean(vals), 1.96 * np.std(vals) / np.sqrt(num_iters)"
   ]
  },
  {
   "cell_type": "code",
   "execution_count": 5,
   "metadata": {},
   "outputs": [
    {
     "name": "stderr",
     "output_type": "stream",
     "text": [
      "100%|██████████| 2000/2000 [17:20<00:00,  1.92it/s]"
     ]
    },
    {
     "name": "stdout",
     "output_type": "stream",
     "text": [
      "(0.13658784058673604, 0.000301806878367079)\n"
     ]
    },
    {
     "name": "stderr",
     "output_type": "stream",
     "text": [
      "\n"
     ]
    }
   ],
   "source": [
    "oracle_late = compute_oracle_late_value(num_iters=2000)\n",
    "print(oracle_late)"
   ]
  }
 ],
 "metadata": {
  "kernelspec": {
   "display_name": "oms",
   "language": "python",
   "name": "python3"
  },
  "language_info": {
   "codemirror_mode": {
    "name": "ipython",
    "version": 3
   },
   "file_extension": ".py",
   "mimetype": "text/x-python",
   "name": "python",
   "nbconvert_exporter": "python",
   "pygments_lexer": "ipython3",
   "version": "3.12.0"
  }
 },
 "nbformat": 4,
 "nbformat_minor": 2
}
