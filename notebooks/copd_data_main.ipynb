{
 "cells": [
  {
   "cell_type": "code",
   "execution_count": 1,
   "metadata": {},
   "outputs": [],
   "source": [
    "import functools\n",
    "import os\n",
    "import threading\n",
    "\n",
    "import seaborn as sns\n",
    "\n",
    "from causal_models.copd_data_scms import CopdDataSCM\n",
    "from copd_data_main import execute_strategy_iteration\n",
    "from utils import parallel_utils, plot_utils"
   ]
  },
  {
   "cell_type": "code",
   "execution_count": 2,
   "metadata": {},
   "outputs": [],
   "source": [
    "REPO_DIR = \"/path/to/repo/directory\"\n",
    "LOG_DIR = os.path.join(REPO_DIR, \"logs\", \"copd\")\n",
    "LOG_PATH = os.path.join(LOG_DIR, \"progress.txt\")\n",
    "RESULTS_DIR = os.path.join(REPO_DIR, \"results\")\n",
    "PLOTS_DIR = os.path.join(RESULTS_DIR, \"plots\")"
   ]
  },
  {
   "cell_type": "code",
   "execution_count": 3,
   "metadata": {},
   "outputs": [],
   "source": [
    "DATA_DIR = os.path.join(REPO_DIR, \"datasets\", \"yang_and_ding\")\n",
    "DATA_VAL_FILEPATH = os.path.join(DATA_DIR, \"validation_ns3.csv\")\n",
    "DATA_MAIN_FILEPATH = os.path.join(DATA_DIR, \"main_ns3.csv\")"
   ]
  },
  {
   "cell_type": "code",
   "execution_count": 4,
   "metadata": {},
   "outputs": [],
   "source": [
    "true_scm_val = CopdDataSCM(data_filepath=DATA_VAL_FILEPATH)\n",
    "true_scm_main = CopdDataSCM(data_filepath=DATA_MAIN_FILEPATH)"
   ]
  },
  {
   "cell_type": "code",
   "execution_count": 5,
   "metadata": {},
   "outputs": [],
   "source": [
    "def run_in_background(results_dict):\n",
    "    parallel_utils.get_timeseries_for(\n",
    "        true_scm_val,\n",
    "        [\n",
    "            \"oracle\",\n",
    "            \"single_source\",\n",
    "            \"etc_0.1\",\n",
    "            \"etg_0.1\",\n",
    "            \"etc_0.2\",\n",
    "            \"etg_0.2\",\n",
    "        ],\n",
    "        horizons=[4000, 6000, 8000, 10000, 12000, 14000, 16000],\n",
    "        iterations=2000,\n",
    "        results_dict=results_dict,\n",
    "        execute_fn=functools.partial(\n",
    "            execute_strategy_iteration,\n",
    "            true_scm_val=true_scm_val,\n",
    "            true_scm_main=true_scm_main,\n",
    "            optimal_kappa=0.11,\n",
    "            cost_per_source=[4.0, 1.0],\n",
    "        ),\n",
    "        log_path=LOG_PATH,\n",
    "    )"
   ]
  },
  {
   "cell_type": "code",
   "execution_count": 1,
   "metadata": {},
   "outputs": [],
   "source": [
    "results_dict = {}\n",
    "thread = threading.Thread(target=run_in_background, args=(results_dict,))\n",
    "thread.start()"
   ]
  },
  {
   "cell_type": "code",
   "execution_count": 2,
   "metadata": {},
   "outputs": [],
   "source": [
    "thread.is_alive()"
   ]
  },
  {
   "cell_type": "code",
   "execution_count": 15,
   "metadata": {},
   "outputs": [],
   "source": [
    "palette = sns.color_palette(\"colorblind\")\n",
    "name_to_linestyle_color = {\n",
    "    \"etc_0.1\": [\"solid\", palette[0], \"o\"],\n",
    "    \"etc_0.2\": [\"dashed\", palette[-3], \">\"],\n",
    "    \"etg_0.1\": [\"dotted\", palette[2], \"^\"],\n",
    "    \"etg_0.2\": [\"loosely dashed\", palette[3], \"D\"],\n",
    "    \"single_source\": [\"dashdotted\", palette[1], \"v\"],\n",
    "    \"oracle\": [\"long dash with offset\", palette[-2], \"*\"],\n",
    "}\n",
    "\n",
    "name_to_label = {\"single_source\": \"fixed\"}"
   ]
  },
  {
   "cell_type": "code",
   "execution_count": 3,
   "metadata": {},
   "outputs": [],
   "source": [
    "plot_utils.plot_mse_curve(\n",
    "    results_dict=results_dict,\n",
    "    name_to_linestyle_color=name_to_linestyle_color,\n",
    "    name_to_label=name_to_label,\n",
    ")"
   ]
  }
 ],
 "metadata": {
  "kernelspec": {
   "display_name": "Python 3 (ipykernel)",
   "language": "python",
   "name": "python3"
  },
  "orig_nbformat": 4
 },
 "nbformat": 4,
 "nbformat_minor": 2
}
