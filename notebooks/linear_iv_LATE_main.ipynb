{
 "cells": [
  {
   "cell_type": "code",
   "execution_count": 2,
   "metadata": {},
   "outputs": [],
   "source": [
    "import functools\n",
    "import os\n",
    "import threading\n",
    "\n",
    "import seaborn as sns\n",
    "\n",
    "from causal_models.iv_with_covariates_scms import UniformIVCovariatesSCM\n",
    "from logistic_iv_LATE_main import execute_strategy_iteration\n",
    "from utils import parallel_utils, plot_utils"
   ]
  },
  {
   "cell_type": "code",
   "execution_count": 2,
   "metadata": {},
   "outputs": [],
   "source": [
    "REPO_DIR = \"/path/to/repo/directory\"\n",
    "LOG_DIR = os.path.join(REPO_DIR, \"logs\", \"iv_late\")\n",
    "LOG_PATH = os.path.join(LOG_DIR, \"progress.txt\")\n",
    "RESULTS_DIR = os.path.join(REPO_DIR, \"results\")\n",
    "PLOTS_DIR = os.path.join(RESULTS_DIR, \"plots\")"
   ]
  },
  {
   "cell_type": "code",
   "execution_count": null,
   "metadata": {},
   "outputs": [],
   "source": [
    "true_scm = UniformIVCovariatesSCM(\n",
    "    wz=0.1,\n",
    "    wx=0.1,\n",
    "    wy=0.1,\n",
    "    ux=0.1,\n",
    "    uy=1,\n",
    "    zx=3,\n",
    "    xy=0.5,\n",
    "    var_nw=0.1,\n",
    "    var_nu=0.1,\n",
    "    var_nx=0,\n",
    "    var_ny=0.8,\n",
    "    bias_x=-1.5,\n",
    ")"
   ]
  },
  {
   "cell_type": "code",
   "execution_count": 4,
   "metadata": {},
   "outputs": [],
   "source": [
    "def run_in_background(results_dict):\n",
    "    parallel_utils.get_timeseries_for(\n",
    "        true_scm,\n",
    "        [\n",
    "            \"oracle_with_true_nu\",\n",
    "            \"fixed_equal\",\n",
    "            \"etc_0.1\",\n",
    "            \"etg_0.1\",\n",
    "            \"etc_0.2\",\n",
    "            \"etg_0.2\",\n",
    "        ],\n",
    "        horizons=[2000, 4000, 6000, 8000],\n",
    "        iterations=16000,\n",
    "        results_dict=results_dict,\n",
    "        execute_fn=functools.partial(execute_strategy_iteration, oracle_kappa=0.65),\n",
    "        log_path=LOG_PATH,\n",
    "    )"
   ]
  },
  {
   "cell_type": "code",
   "execution_count": 10,
   "metadata": {},
   "outputs": [],
   "source": [
    "results_dict = {}\n",
    "thread = threading.Thread(target=run_in_background, args=(results_dict,))\n",
    "thread.start()"
   ]
  },
  {
   "cell_type": "code",
   "execution_count": 3,
   "metadata": {},
   "outputs": [],
   "source": [
    "thread.is_alive()"
   ]
  },
  {
   "cell_type": "code",
   "execution_count": 8,
   "metadata": {},
   "outputs": [],
   "source": [
    "palette = sns.color_palette(\"colorblind\")\n",
    "name_to_linestyle_color = {\n",
    "    \"etc_0.1\": [\"solid\", palette[0], \"o\"],\n",
    "    \"etc_0.2\": [\"dashed\", palette[-3], \">\"],\n",
    "    \"etg_0.1\": [\"dotted\", palette[2], \"^\"],\n",
    "    \"etg_0.2\": [\"loosely dashed\", palette[3], \"D\"],\n",
    "    \"fixed_equal\": [\"dashdotted\", palette[1], \"v\"],\n",
    "}\n",
    "\n",
    "name_to_label = {\"fixed_equal\": \"fixed\"}"
   ]
  },
  {
   "cell_type": "code",
   "execution_count": 4,
   "metadata": {},
   "outputs": [],
   "source": [
    "plot_utils.plot_regret_curve(\n",
    "    results_dict=results_dict,\n",
    "    name_to_linestyle_color=name_to_linestyle_color,\n",
    "    name_to_label=name_to_label\n",
    ")"
   ]
  }
 ],
 "metadata": {
  "kernelspec": {
   "display_name": "oms",
   "language": "python",
   "name": "python3"
  },
  "language_info": {
   "codemirror_mode": {
    "name": "ipython",
    "version": 3
   },
   "file_extension": ".py",
   "mimetype": "text/x-python",
   "name": "python",
   "nbconvert_exporter": "python",
   "pygments_lexer": "ipython3",
   "version": "3.12.0"
  },
  "orig_nbformat": 4
 },
 "nbformat": 4,
 "nbformat_minor": 2
}
