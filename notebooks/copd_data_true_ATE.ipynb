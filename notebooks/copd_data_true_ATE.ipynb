{
 "cells": [
  {
   "cell_type": "code",
   "execution_count": 1,
   "metadata": {},
   "outputs": [],
   "source": [
    "import os\n",
    "\n",
    "import numpy as np\n",
    "import pandas as pd\n",
    "from tqdm import tqdm\n",
    "\n",
    "from causal_models.copd_data_scms import CopdDataSCM\n",
    "from gmm.copd_data import LinearCombinedDataCrossFitNuisanceEstimator\n",
    "from gmm.gmm_equations import GMMEstimator\n",
    "from gmm.observational_two_covariates import ObservationalTwoCovariatesGMMEqs"
   ]
  },
  {
   "cell_type": "code",
   "execution_count": 4,
   "metadata": {},
   "outputs": [],
   "source": [
    "REPO_DIR = \"/path/to/repo/directory\"\n",
    "DATA_DIR = os.path.join(REPO_DIR, \"datasets\", \"yang_and_ding\")\n",
    "DATA_VAL_FILEPATH = os.path.join(DATA_DIR, \"validation_ns3.csv\")\n",
    "DATA_MAIN_FILEPATH = os.path.join(DATA_DIR, \"main_ns3.csv\")"
   ]
  },
  {
   "cell_type": "code",
   "execution_count": 6,
   "metadata": {},
   "outputs": [],
   "source": [
    "def get_combined_ate():\n",
    "    true_scm_val = CopdDataSCM(data_filepath=DATA_VAL_FILEPATH)\n",
    "    true_scm_main = CopdDataSCM(data_filepath=DATA_MAIN_FILEPATH)\n",
    "\n",
    "    df_val = true_scm_val.get_original_dataset()\n",
    "    df_val[\"SEL\"] = 1\n",
    "\n",
    "    df_main = true_scm_main.get_original_dataset()\n",
    "    df_main[\"SEL\"] = 0\n",
    "\n",
    "    df = (\n",
    "        pd.concat([df_val, df_main])\n",
    "        .sample(frac=1, replace=False)\n",
    "        .reset_index(drop=True)\n",
    "    )\n",
    "\n",
    "    nuisance = LinearCombinedDataCrossFitNuisanceEstimator()\n",
    "    gmm = GMMEstimator(\n",
    "        df=df, gmm_eqs=ObservationalTwoCovariatesGMMEqs(), nuisance=nuisance\n",
    "    )\n",
    "\n",
    "    params, moment_covariance = gmm.find_parameters(num_iters=2)\n",
    "    optimal_kappa = gmm.find_optimal_k(\n",
    "        moment_covariance=moment_covariance, params=params, cost_per_source=[4, 1]\n",
    "    )\n",
    "    return params[0], optimal_kappa"
   ]
  },
  {
   "cell_type": "code",
   "execution_count": 7,
   "metadata": {},
   "outputs": [
    {
     "name": "stderr",
     "output_type": "stream",
     "text": [
      "100%|██████████| 2000/2000 [05:31<00:00,  6.04it/s]\n"
     ]
    }
   ],
   "source": [
    "random_seed = 232281293\n",
    "np.random.seed(random_seed)\n",
    "results = [get_combined_ate() for i in tqdm(range(2000))]\n",
    "ate_vals = [r[0] for r in results]\n",
    "optimal_kappas = [r[1] for r in results]\n",
    "np.random.seed(None)"
   ]
  },
  {
   "cell_type": "code",
   "execution_count": 8,
   "metadata": {},
   "outputs": [
    {
     "name": "stdout",
     "output_type": "stream",
     "text": [
      "ATE = 0.015609412706598623 +- 3.518419461558675e-05\n"
     ]
    }
   ],
   "source": [
    "ate_vals = np.array(ate_vals)\n",
    "mean = np.mean(ate_vals)\n",
    "ci = 1.96 * np.sqrt(np.var(ate_vals) / len(ate_vals))\n",
    "print(f\"ATE = {mean} +- {ci}\")"
   ]
  },
  {
   "cell_type": "code",
   "execution_count": 9,
   "metadata": {},
   "outputs": [
    {
     "name": "stdout",
     "output_type": "stream",
     "text": [
      "optimal_kappas = 0.10764016102577924 +- 0.001578670833787042\n"
     ]
    }
   ],
   "source": [
    "optimal_kappas = np.array(optimal_kappas)\n",
    "mean = np.mean(optimal_kappas)\n",
    "ci = 1.96 * np.sqrt(np.var(optimal_kappas) / len(optimal_kappas))\n",
    "print(f\"optimal_kappas = {mean} +- {ci}\")"
   ]
  },
  {
   "cell_type": "code",
   "execution_count": null,
   "metadata": {},
   "outputs": [],
   "source": []
  }
 ],
 "metadata": {
  "kernelspec": {
   "display_name": "oms",
   "language": "python",
   "name": "python3"
  },
  "language_info": {
   "codemirror_mode": {
    "name": "ipython",
    "version": 3
   },
   "file_extension": ".py",
   "mimetype": "text/x-python",
   "name": "python",
   "nbconvert_exporter": "python",
   "pygments_lexer": "ipython3",
   "version": "3.12.0"
  }
 },
 "nbformat": 4,
 "nbformat_minor": 2
}
